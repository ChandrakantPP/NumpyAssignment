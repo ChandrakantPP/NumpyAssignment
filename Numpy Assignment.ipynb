{
 "cells": [
  {
   "cell_type": "markdown",
   "id": "e600ead4-b4de-4a13-9010-d03cfb7189cb",
   "metadata": {},
   "source": [
    "Q1. Is there any difference in the data type of variables list_ and array_list? If there is then write a code\n",
    "to print the data types of both the variables."
   ]
  },
  {
   "cell_type": "code",
   "execution_count": 1,
   "id": "cc7dde30-f1b8-475f-a016-a63ad72748a5",
   "metadata": {},
   "outputs": [],
   "source": [
    "import numpy as np\n",
    "list_ = [ 1 , 2 , 3 , 4 , 5]\n",
    "array_list = np.array(object = list_)"
   ]
  },
  {
   "cell_type": "code",
   "execution_count": 2,
   "id": "d193f62e-160c-4893-af1a-70a2f14f59e5",
   "metadata": {},
   "outputs": [
    {
     "name": "stdout",
     "output_type": "stream",
     "text": [
      "<class 'list'>\n",
      "<class 'numpy.ndarray'>\n"
     ]
    }
   ],
   "source": [
    "'''Yes, there is a difference in the data type of variables list_ and array_list. list_ is a Python list object while array_list \n",
    "   is a NumPy array object.'''\n",
    "# printing data types of both variables\n",
    "print(type(list_)) \n",
    "print(type(array_list))"
   ]
  },
  {
   "cell_type": "markdown",
   "id": "29553261-50b2-4b07-bad3-a80b71335d46",
   "metadata": {},
   "source": [
    "Q2. Write a code to print the data type of each and every element of both the variables list_ and array_list."
   ]
  },
  {
   "cell_type": "code",
   "execution_count": 3,
   "id": "d14074bc-5e35-46ff-a2bd-bd82374843c0",
   "metadata": {},
   "outputs": [
    {
     "name": "stdout",
     "output_type": "stream",
     "text": [
      "<class 'int'>\n",
      "<class 'int'>\n",
      "<class 'int'>\n",
      "<class 'int'>\n",
      "<class 'int'>\n",
      "<class 'numpy.int64'>\n",
      "<class 'numpy.int64'>\n",
      "<class 'numpy.int64'>\n",
      "<class 'numpy.int64'>\n",
      "<class 'numpy.int64'>\n"
     ]
    }
   ],
   "source": [
    "# Print data type of each element in list_\n",
    "for element in list_:\n",
    "    print(type(element))\n",
    "\n",
    "# Print data type of each element in array_list\n",
    "for element in array_list:\n",
    "    print(type(element))"
   ]
  },
  {
   "cell_type": "markdown",
   "id": "d7efac77-89e9-4131-aead-2c9ed35bfa2c",
   "metadata": {},
   "source": [
    "Q3. Considering the following changes in the variable, array_list:"
   ]
  },
  {
   "cell_type": "code",
   "execution_count": 4,
   "id": "9dd9b15c-6c48-4d74-a9f5-8acb54aa8691",
   "metadata": {},
   "outputs": [],
   "source": [
    "array_list = np.array(object = list_, dtype = int)"
   ]
  },
  {
   "cell_type": "code",
   "execution_count": 5,
   "id": "682265b1-7e42-40e4-a111-713ce98f1bb0",
   "metadata": {},
   "outputs": [
    {
     "name": "stdout",
     "output_type": "stream",
     "text": [
      "<class 'int'>\n",
      "<class 'int'>\n",
      "<class 'int'>\n",
      "<class 'int'>\n",
      "<class 'int'>\n",
      "<class 'numpy.int64'>\n",
      "<class 'numpy.int64'>\n",
      "<class 'numpy.int64'>\n",
      "<class 'numpy.int64'>\n",
      "<class 'numpy.int64'>\n"
     ]
    }
   ],
   "source": [
    "array_list = np.array(object = list_ , dtype = int)\n",
    "for element in list_:\n",
    "    print(type(element))\n",
    "for element in array_list:\n",
    "    print(type(element))"
   ]
  },
  {
   "cell_type": "markdown",
   "id": "342fd094-d3a4-4d6e-8f51-e413945edd1a",
   "metadata": {},
   "source": [
    "Consider the below code to answer further questions:"
   ]
  },
  {
   "cell_type": "code",
   "execution_count": 6,
   "id": "accf9df0-c017-43c8-be65-4f0ff0d5cf77",
   "metadata": {},
   "outputs": [],
   "source": [
    "import numpy as np\n",
    "num_list = [ [ 1 , 2 , 3 ] , [ 4 , 5 , 6 ] ]\n",
    "num_array = np.array(object = num_list)"
   ]
  },
  {
   "cell_type": "markdown",
   "id": "a963b85b-f038-4037-a620-cea10cf6144c",
   "metadata": {},
   "source": [
    "Q4. Write a code to find the following characteristics of variable, num_array:"
   ]
  },
  {
   "cell_type": "raw",
   "id": "3df0c541-9b0f-4846-bfba-c0143db5e6aa",
   "metadata": {},
   "source": [
    "(i) shape (ii) size"
   ]
  },
  {
   "cell_type": "code",
   "execution_count": 7,
   "id": "a150d6a9-5e09-4c6d-9fe6-42b831becc6a",
   "metadata": {},
   "outputs": [
    {
     "name": "stdout",
     "output_type": "stream",
     "text": [
      "(2, 3)\n",
      "6\n"
     ]
    }
   ],
   "source": [
    "# Print the shape of num_array\n",
    "print(num_array.shape)\n",
    "\n",
    "# Print the size of num_array\n",
    "print(num_array.size)"
   ]
  },
  {
   "cell_type": "markdown",
   "id": "fb1f1720-e3e5-4183-88fe-17f38f19e029",
   "metadata": {},
   "source": [
    "Q5. Write a code to create numpy array of 3*3 matrix containing zeros only, using a numpy array creation function."
   ]
  },
  {
   "cell_type": "code",
   "execution_count": 8,
   "id": "df3869cd-bbad-4e49-931f-a16d3469f352",
   "metadata": {},
   "outputs": [
    {
     "name": "stdout",
     "output_type": "stream",
     "text": [
      "[[0. 0. 0.]\n",
      " [0. 0. 0.]\n",
      " [0. 0. 0.]]\n"
     ]
    }
   ],
   "source": [
    "# Creating a 3*3 matrix containing zeros only \n",
    "zeros_matrix = np.zeros((3,3))\n",
    "print(zeros_matrix)"
   ]
  },
  {
   "cell_type": "markdown",
   "id": "b5233775-8122-4710-be27-106a4ec80ef9",
   "metadata": {},
   "source": [
    "Q6. Create an identity matrix of shape (5,5) using numpy functions?"
   ]
  },
  {
   "cell_type": "code",
   "execution_count": 9,
   "id": "cd2a3541-19de-4e13-bd41-3b2202309b83",
   "metadata": {},
   "outputs": [
    {
     "name": "stdout",
     "output_type": "stream",
     "text": [
      "[[1. 0. 0. 0. 0.]\n",
      " [0. 1. 0. 0. 0.]\n",
      " [0. 0. 1. 0. 0.]\n",
      " [0. 0. 0. 1. 0.]\n",
      " [0. 0. 0. 0. 1.]]\n"
     ]
    }
   ],
   "source": [
    "# Creating a identity matrix of shape (5,5)\n",
    "identity_matrix = np.eye(5)\n",
    "print(identity_matrix)"
   ]
  }
 ],
 "metadata": {
  "kernelspec": {
   "display_name": "Python 3 (ipykernel)",
   "language": "python",
   "name": "python3"
  },
  "language_info": {
   "codemirror_mode": {
    "name": "ipython",
    "version": 3
   },
   "file_extension": ".py",
   "mimetype": "text/x-python",
   "name": "python",
   "nbconvert_exporter": "python",
   "pygments_lexer": "ipython3",
   "version": "3.10.8"
  }
 },
 "nbformat": 4,
 "nbformat_minor": 5
}
